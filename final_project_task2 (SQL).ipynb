{
 "cells": [
  {
   "cell_type": "markdown",
   "metadata": {},
   "source": [
    "# Задание 2. SQL"
   ]
  },
  {
   "cell_type": "markdown",
   "metadata": {},
   "source": [
    "### Задание 2.1. Очень усердные ученики. Код для решения задачи:"
   ]
  },
  {
   "cell_type": "markdown",
   "metadata": {},
   "source": [
    "SELECT COUNT(1) AS count_of_diligent_students\n",
    "FROM (\n",
    "    SELECT st_id\n",
    "    FROM peas\n",
    "    WHERE correct = true\n",
    "    GROUP BY st_id\n",
    "    HAVING COUNT(1) >= 20\n",
    ") AS diligent_students"
   ]
  },
  {
   "cell_type": "markdown",
   "metadata": {},
   "source": [
    "### Задание 2.2. Оптимизация воронки. Код для решения задачи:"
   ]
  },
  {
   "cell_type": "markdown",
   "metadata": {},
   "source": [
    "\n",
    "--активные пользователи\n",
    "WITH \n",
    "active_users AS (\n",
    "    SELECT st_id\n",
    "    FROM peas\n",
    "    WHERE correct = TRUE\n",
    "    GROUP BY st_id\n",
    "    HAVING COUNT(*) > 10\n",
    "),\n",
    "\n",
    "--активные пользователи по математике\n",
    "active_math AS (\n",
    "    SELECT st_id\n",
    "    FROM peas\n",
    "    WHERE correct = TRUE AND subject = 'Math'\n",
    "    GROUP BY st_id\n",
    "    HAVING COUNT(*) >= 2\n",
    "),\n",
    "\n",
    "--покупки\n",
    "purchases AS (\n",
    "    SELECT st_id,\n",
    "           SUM(money) AS total_money,\n",
    "           BOOL_OR(subject = 'Math') AS bought_math\n",
    "    FROM final_project_check\n",
    "    GROUP BY st_id\n",
    ")\n",
    "\n",
    "\n",
    "--основной запрос\n",
    "SELECT \n",
    "    s.test_grp,\n",
    "\n",
    "    --ARPU\n",
    "    COALESCE(SUM(p.total_money), 0)::float / COUNT(DISTINCT s.st_id) AS arpu,\n",
    "\n",
    "    --ARPAU   \n",
    "    COALESCE(SUM(p.total_money), 0)::float \n",
    "        / NULLIF(COUNT(DISTINCT CASE WHEN a.st_id IS NOT NULL THEN s.st_id END), 0) AS arpau,\n",
    "    \n",
    "    --CR в покупку\n",
    "    COUNT(DISTINCT CASE WHEN p.st_id IS NOT NULL THEN s.st_id END)::float \n",
    "        / COUNT(DISTINCT s.st_id) AS cr,\n",
    "\n",
    "    --CR активного пользователя в покупку\n",
    "    COUNT(DISTINCT CASE WHEN a.st_id IS NOT NULL AND p.st_id IS NOT NULL THEN s.st_id END)::float\n",
    "        / NULLIF(COUNT(DISTINCT CASE WHEN a.st_id IS NOT NULL THEN s.st_id END), 0) AS cr_active,\n",
    "\n",
    "    --CR пользователя из активности по математике \n",
    "    COUNT(DISTINCT CASE WHEN am.st_id IS NOT NULL AND p.bought_math THEN s.st_id END)::float\n",
    "        / NULLIF(COUNT(DISTINCT am.st_id), 0) AS cr_math_active\n",
    "\n",
    "FROM studs s\n",
    "LEFT JOIN purchases p ON s.st_id = p.st_id\n",
    "LEFT JOIN active_users a ON s.st_id = a.st_id\n",
    "LEFT JOIN active_math am ON s.st_id = am.st_id\n",
    "GROUP BY s.test_grp"
   ]
  }
 ],
 "metadata": {
  "kernelspec": {
   "display_name": "Python 3",
   "language": "python",
   "name": "python3"
  },
  "language_info": {
   "codemirror_mode": {
    "name": "ipython",
    "version": 3
   },
   "file_extension": ".py",
   "mimetype": "text/x-python",
   "name": "python",
   "nbconvert_exporter": "python",
   "pygments_lexer": "ipython3",
   "version": "3.7.3"
  }
 },
 "nbformat": 4,
 "nbformat_minor": 4
}
