{
 "cells": [
  {
   "cell_type": "markdown",
   "metadata": {},
   "source": [
    "### Задание 3. Python"
   ]
  },
  {
   "cell_type": "code",
   "execution_count": 1,
   "metadata": {},
   "outputs": [],
   "source": [
    "# импортируем нужные библиотеки\n",
    "\n",
    "import pandas as pd\n",
    "import numpy as np\n",
    "from scipy import stats\n",
    "from statsmodels.stats.proportion import proportions_ztest\n",
    "import matplotlib.pyplot as plt"
   ]
  },
  {
   "cell_type": "markdown",
   "metadata": {},
   "source": [
    "#### Функция для автоматической подгрузки информации из дополнительного файла и пересчета метрик: "
   ]
  },
  {
   "cell_type": "code",
   "execution_count": 2,
   "metadata": {},
   "outputs": [],
   "source": [
    "def update_and_recalculate_metrics(\n",
    "    groups_add_path='Проект_2_group_add.csv',\n",
    "    groups_path='Проект_2_groups.csv',\n",
    "    active_studs_path='Проект_2_active_studs.csv',\n",
    "    checks_path='Проект_2_checks.csv',\n",
    "):\n",
    "    # Загрузка основного файла groups\n",
    "    groups = pd.read_csv(groups_path, sep=';')\n",
    "    groups = groups.rename(columns={groups.columns[0]: 'student_id', groups.columns[1]: 'group'})\n",
    "\n",
    "    # Загрузка дополнительного файла groups_add \n",
    "    groups_add = pd.read_csv(groups_add_path)\n",
    "    groups_add.columns = ['student_id', 'group']  # Автоматическое переименование, независимо от исходных заголовков\n",
    "\n",
    "    # Загрузка active_studs\n",
    "    active_studs = pd.read_csv(active_studs_path)\n",
    "\n",
    "    # Загрузка checks\n",
    "    checks = pd.read_csv(checks_path, sep=';')\n",
    "    checks = checks.rename(columns={checks.columns[1]: 'revenue'})\n",
    "\n",
    "    # Агрегация checks и active_studs\n",
    "    checks_agg = checks.groupby('student_id').agg(revenue=('revenue', 'sum'), orders=('revenue', 'count')).reset_index()\n",
    "    active_studs_agg = active_studs.groupby('student_id').agg(active_days=('student_id', 'count')).reset_index()\n",
    "\n",
    "    # Объединение основного groups с дополнительным groups_add\n",
    "    all_groups = pd.concat([groups, groups_add], ignore_index=True)\n",
    "\n",
    "    # Объединение всех данных\n",
    "    df = all_groups.merge(checks_agg, on='student_id', how='left') \\\n",
    "                    .merge(active_studs_agg, on='student_id', how='left')\n",
    "    df = df.fillna({'orders': 0, 'revenue': 0.0, 'active_days': 0})\n",
    "\n",
    "    # Рассчет метрик\n",
    "    metrics = df.groupby('group').agg(\n",
    "        users_count=('student_id', 'count'),\n",
    "        buyers=('orders', lambda x: (x > 0).sum()),\n",
    "        orders=('orders', 'sum'),\n",
    "        revenue=('revenue', 'sum')\n",
    "    ).reset_index()\n",
    "    \n",
    "    metrics['conversion'] = metrics['buyers'] / metrics['users_count']\n",
    "    metrics['arpu'] = metrics['revenue'] / metrics['users_count']\n",
    "    metrics['aov'] = metrics['revenue'] / metrics['buyers']\n",
    "\n",
    "    # Разделение на группы\n",
    "    groupA = df[df['group'] == 'A']\n",
    "    groupB = df[df['group'] == 'B']\n",
    "\n",
    "    # Конверсия и z-test\n",
    "    conv_a = (groupA['orders'] > 0).sum()\n",
    "    conv_b = (groupB['orders'] > 0).sum()\n",
    "    n_a = groupA.shape[0]\n",
    "    n_b = groupB.shape[0]\n",
    "    z_stat, pval_conv = proportions_ztest([conv_a, conv_b], [n_a, n_b])\n",
    "\n",
    "    # ARPU и bootstrap\n",
    "    def bootstrap_diff_mean(x, y, n_boot=5000, seed=42):\n",
    "        rng = np.random.RandomState(seed)\n",
    "        diffs = []\n",
    "        for _ in range(n_boot):\n",
    "            xs = rng.choice(x, len(x), replace=True)\n",
    "            ys = rng.choice(y, len(y), replace=True)\n",
    "            diffs.append(ys.mean() - xs.mean())\n",
    "        return np.percentile(diffs, [2.5, 97.5]), np.mean(diffs)\n",
    "\n",
    "    ci_arpu, diff_mean_arpu = bootstrap_diff_mean(groupA['revenue'], groupB['revenue'])\n",
    "\n",
    "    # AOV с критерием Манна-Уитни\n",
    "    buyers_a = groupA[groupA['orders'] > 0]['revenue']\n",
    "    buyers_b = groupB[groupB['orders'] > 0]['revenue']\n",
    "    u_stat, pval_aov = stats.mannwhitneyu(buyers_a, buyers_b, alternative='two-sided')\n",
    "\n",
    "    # Сбор результатов в DataFrame\n",
    "    results = pd.DataFrame({\n",
    "        'metric': ['conversion', 'arpu', 'aov'],\n",
    "        'group_A': [conv_a / n_a, groupA['revenue'].mean(), buyers_a.mean()],\n",
    "        'group_B': [conv_b / n_b, groupB['revenue'].mean(), buyers_b.mean()],\n",
    "        'p_value': [pval_conv, None, pval_aov],  \n",
    "        'ci_lower': [None, ci_arpu[0], None],\n",
    "        'ci_upper': [None, ci_arpu[1], None],\n",
    "        'diff_mean': [None, diff_mean_arpu, None]\n",
    "    })\n",
    "\n",
    "    return results, df  # Возвращаем метрики и обновленный датафрейм"
   ]
  },
  {
   "cell_type": "markdown",
   "metadata": {},
   "source": [
    "#### Функция для построения графиков по получаемым метрикам:"
   ]
  },
  {
   "cell_type": "code",
   "execution_count": 3,
   "metadata": {},
   "outputs": [],
   "source": [
    "def plot_metrics(metrics_df, df, plot_types=['box', 'hist']): # metrics_df - датафрейм с метриками из предыдущей функции\n",
    "    groupA = df[df['group'] == 'A']\n",
    "    groupB = df[df['group'] == 'B']\n",
    "\n",
    "    if 'box' in plot_types:\n",
    "        plt.figure(figsize=(12, 8))\n",
    "        plt.boxplot([groupA['revenue'], groupB['revenue']], labels=['A', 'B'])\n",
    "        plt.title('Revenue per User by Group')\n",
    "        plt.show()\n",
    "\n",
    "    if 'hist' in plot_types:\n",
    "        plt.figure(figsize=(12, 8))\n",
    "        plt.hist([groupA['revenue'], groupB['revenue']], bins=100, label=['A', 'B'], alpha=0.6)\n",
    "        plt.legend()\n",
    "        plt.title('Revenue Distribution')\n",
    "        plt.show()"
   ]
  },
  {
   "cell_type": "markdown",
   "metadata": {},
   "source": [
    "#### Пример использования функций:"
   ]
  },
  {
   "cell_type": "code",
   "execution_count": 4,
   "metadata": {},
   "outputs": [],
   "source": [
    "metrics, updated_df = update_and_recalculate_metrics()"
   ]
  },
  {
   "cell_type": "code",
   "execution_count": 5,
   "metadata": {},
   "outputs": [
    {
     "data": {
      "text/html": [
       "<div>\n",
       "<style scoped>\n",
       "    .dataframe tbody tr th:only-of-type {\n",
       "        vertical-align: middle;\n",
       "    }\n",
       "\n",
       "    .dataframe tbody tr th {\n",
       "        vertical-align: top;\n",
       "    }\n",
       "\n",
       "    .dataframe thead th {\n",
       "        text-align: right;\n",
       "    }\n",
       "</style>\n",
       "<table border=\"1\" class=\"dataframe\">\n",
       "  <thead>\n",
       "    <tr style=\"text-align: right;\">\n",
       "      <th></th>\n",
       "      <th>metric</th>\n",
       "      <th>group_A</th>\n",
       "      <th>group_B</th>\n",
       "      <th>p_value</th>\n",
       "      <th>ci_lower</th>\n",
       "      <th>ci_upper</th>\n",
       "      <th>diff_mean</th>\n",
       "    </tr>\n",
       "  </thead>\n",
       "  <tbody>\n",
       "    <tr>\n",
       "      <th>0</th>\n",
       "      <td>conversion</td>\n",
       "      <td>0.007282</td>\n",
       "      <td>0.007247</td>\n",
       "      <td>0.964357</td>\n",
       "      <td>NaN</td>\n",
       "      <td>NaN</td>\n",
       "      <td>NaN</td>\n",
       "    </tr>\n",
       "    <tr>\n",
       "      <th>1</th>\n",
       "      <td>arpu</td>\n",
       "      <td>6.268019</td>\n",
       "      <td>8.036171</td>\n",
       "      <td>NaN</td>\n",
       "      <td>-0.150574</td>\n",
       "      <td>3.573081</td>\n",
       "      <td>1.771101</td>\n",
       "    </tr>\n",
       "    <tr>\n",
       "      <th>2</th>\n",
       "      <td>aov</td>\n",
       "      <td>860.710280</td>\n",
       "      <td>1108.824893</td>\n",
       "      <td>0.000193</td>\n",
       "      <td>NaN</td>\n",
       "      <td>NaN</td>\n",
       "      <td>NaN</td>\n",
       "    </tr>\n",
       "  </tbody>\n",
       "</table>\n",
       "</div>"
      ],
      "text/plain": [
       "       metric     group_A      group_B   p_value  ci_lower  ci_upper  \\\n",
       "0  conversion    0.007282     0.007247  0.964357       NaN       NaN   \n",
       "1        arpu    6.268019     8.036171       NaN -0.150574  3.573081   \n",
       "2         aov  860.710280  1108.824893  0.000193       NaN       NaN   \n",
       "\n",
       "   diff_mean  \n",
       "0        NaN  \n",
       "1   1.771101  \n",
       "2        NaN  "
      ]
     },
     "execution_count": 5,
     "metadata": {},
     "output_type": "execute_result"
    }
   ],
   "source": [
    "metrics"
   ]
  },
  {
   "cell_type": "code",
   "execution_count": 11,
   "metadata": {},
   "outputs": [
    {
     "name": "stderr",
     "output_type": "stream",
     "text": [
      "/opt/tljh/user/lib/python3.7/site-packages/matplotlib/cbook/__init__.py:1376: VisibleDeprecationWarning: Creating an ndarray from ragged nested sequences (which is a list-or-tuple of lists-or-tuples-or ndarrays with different lengths or shapes) is deprecated. If you meant to do this, you must specify 'dtype=object' when creating the ndarray.\n",
      "  X = np.atleast_1d(X.T if isinstance(X, np.ndarray) else np.asarray(X))\n"
     ]
    },
    {
     "data": {
      "image/png": "[encoded data removed]",
      "text/plain": [
       "<Figure size 864x576 with 1 Axes>"
      ]
     },
     "metadata": {
      "needs_background": "light"
     },
     "output_type": "display_data"
    },
    {
     "name": "stderr",
     "output_type": "stream",
     "text": [
      "/opt/tljh/user/lib/python3.7/site-packages/numpy/core/fromnumeric.py:3208: VisibleDeprecationWarning: Creating an ndarray from ragged nested sequences (which is a list-or-tuple of lists-or-tuples-or ndarrays with different lengths or shapes) is deprecated. If you meant to do this, you must specify 'dtype=object' when creating the ndarray.\n",
      "  return asarray(a).size\n",
      "/opt/tljh/user/lib/python3.7/site-packages/matplotlib/cbook/__init__.py:1376: VisibleDeprecationWarning: Creating an ndarray from ragged nested sequences (which is a list-or-tuple of lists-or-tuples-or ndarrays with different lengths or shapes) is deprecated. If you meant to do this, you must specify 'dtype=object' when creating the ndarray.\n",
      "  X = np.atleast_1d(X.T if isinstance(X, np.ndarray) else np.asarray(X))\n"
     ]
    },
    {
     "data": {
      "image/png": "[encoded data removed]",
      "text/plain": [
       "<Figure size 864x576 with 1 Axes>"
      ]
     },
     "metadata": {
      "needs_background": "light"
     },
     "output_type": "display_data"
    }
   ],
   "source": [
    "plot_metrics(metrics, updated_df)"
   ]
  }
 ],
 "metadata": {
  "kernelspec": {
   "display_name": "base",
   "language": "python",
   "name": "python3"
  },
  "language_info": {
   "codemirror_mode": {
    "name": "ipython",
    "version": 3
   },
   "file_extension": ".py",
   "mimetype": "text/x-python",
   "name": "python",
   "nbconvert_exporter": "python",
   "pygments_lexer": "ipython3",
   "version": "3.12.4"
  }
 },
 "nbformat": 4,
 "nbformat_minor": 4
}
